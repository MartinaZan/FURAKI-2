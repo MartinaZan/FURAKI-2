{
 "cells": [
  {
   "cell_type": "code",
   "execution_count": null,
   "id": "4f9a313d",
   "metadata": {},
   "outputs": [],
   "source": [
    "import pandas as pd\n",
    "import numpy as np\n",
    "import networkx as nx\n",
    "import matplotlib.pyplot as plt\n",
    "from experiments.config import PolimiHouse, ARAS, VanKastareen, DAMADICS, CovtFD, scoring\n",
    "from src.furaki.tree import FurakiTree"
   ]
  },
  {
   "cell_type": "code",
   "execution_count": null,
   "id": "c5fc69c0",
   "metadata": {},
   "outputs": [],
   "source": [
    "params = CovtFD"
   ]
  },
  {
   "cell_type": "code",
   "execution_count": null,
   "id": "de2f8dea",
   "metadata": {},
   "outputs": [
    {
     "name": "stdout",
     "output_type": "stream",
     "text": [
      "covtFD F1 0.4402337737506065\n",
      "covtFD ARI 0.20473324813277302\n"
     ]
    }
   ],
   "source": [
    "df = pd.read_csv(params.get('dataset'))\n",
    "y = df.drifting.to_list()\n",
    "X = df.drop(\"drifting\", axis=1)\n",
    "\n",
    "tree = FurakiTree(**params)\n",
    "tree.fit(X)\n",
    "labels = np.array(tree.predict())\n",
    "\n",
    "print(params.get(\"dataset\")[5:-4],'F1', scoring['F1'](y, labels, average='macro'))\n",
    "print(params.get(\"dataset\")[5:-4],'ARI', scoring['ARI'](y, labels))"
   ]
  },
  {
   "cell_type": "code",
   "execution_count": 44,
   "id": "2f136d33",
   "metadata": {},
   "outputs": [
    {
     "data": {
      "image/png": "[encoded data removed]",
      "text/plain": [
       "<Figure size 640x480 with 1 Axes>"
      ]
     },
     "metadata": {},
     "output_type": "display_data"
    }
   ],
   "source": [
    "def hierarchy_pos_centered(G, root=None, x=0, y=0, dx=1.0, dy=1.0, pos=None, level=0):\n",
    "    if pos is None:\n",
    "        pos = {}\n",
    "\n",
    "    children = list(G.successors(root))\n",
    "    \n",
    "    if not children:\n",
    "        pos[root] = (x, y)\n",
    "    else:\n",
    "        # Posizionamento ricorsivo dei figli\n",
    "        child_x = x - dx * (len(children) - 1) / 2  # centrare figli\n",
    "        child_positions = []\n",
    "\n",
    "        for child in children:\n",
    "            pos = hierarchy_pos_centered(G, root=child, x=child_x, y=y - dy, dx=dx, dy=dy, pos=pos, level=level+1)\n",
    "            child_positions.append(pos[child][0])\n",
    "            child_x += dx\n",
    "\n",
    "        # Centrare il padre rispetto alla media delle x dei figli\n",
    "        min_x = min(child_positions)\n",
    "        max_x = max(child_positions)\n",
    "        pos[root] = ((min_x + max_x) / 2, y)\n",
    "\n",
    "    return pos\n",
    "\n",
    "# --- Plot of the tree ---\n",
    "\n",
    "a = tree.to_networkx()\n",
    "root = [n for n,d in a.in_degree() if d==0][0]\n",
    "pos = hierarchy_pos_centered(a, root=root, x=0, y=0, dx=1.0, dy=1.5)\n",
    "\n",
    "plt.figure()\n",
    "nx.draw(\n",
    "    a,\n",
    "    pos=pos,\n",
    "    with_labels=True,\n",
    "    arrows=False,\n",
    "    node_size=400,\n",
    "    node_color='lightblue',\n",
    "    font_size=10\n",
    ")\n",
    "plt.show()"
   ]
  },
  {
   "cell_type": "code",
   "execution_count": 52,
   "id": "c50f9f6a",
   "metadata": {},
   "outputs": [
    {
     "data": {
      "text/plain": [
       "'<lambda>'"
      ]
     },
     "execution_count": 52,
     "metadata": {},
     "output_type": "execute_result"
    }
   ],
   "source": [
    "tree.get_nodes()[0].features_all[0][2].__name__"
   ]
  }
 ],
 "metadata": {
  "kernelspec": {
   "display_name": "furaki_2",
   "language": "python",
   "name": "python3"
  },
  "language_info": {
   "codemirror_mode": {
    "name": "ipython",
    "version": 3
   },
   "file_extension": ".py",
   "mimetype": "text/x-python",
   "name": "python",
   "nbconvert_exporter": "python",
   "pygments_lexer": "ipython3",
   "version": "3.12.11"
  }
 },
 "nbformat": 4,
 "nbformat_minor": 5
}
